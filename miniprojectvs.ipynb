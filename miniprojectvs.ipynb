{
 "cells": [
  {
   "cell_type": "code",
   "execution_count": 1,
   "id": "3a4c296e-a47c-4e87-adeb-5e26d6ca25f8",
   "metadata": {},
   "outputs": [
    {
     "name": "stdout",
     "output_type": "stream",
     "text": [
      "Requirement already satisfied: numpy in c:\\users\\guest1\\anaconda3\\lib\\site-packages (1.26.4)\n",
      "Requirement already satisfied: pandas in c:\\users\\guest1\\anaconda3\\lib\\site-packages (2.2.2)\n",
      "Requirement already satisfied: tensorflow in c:\\users\\guest1\\anaconda3\\lib\\site-packages (2.17.0)\n",
      "Requirement already satisfied: keras in c:\\users\\guest1\\anaconda3\\lib\\site-packages (3.4.1)\n",
      "Requirement already satisfied: matplotlib in c:\\users\\guest1\\anaconda3\\lib\\site-packages (3.8.4)\n",
      "Note: you may need to restart the kernel to use updated packages.\n"
     ]
    },
    {
     "name": "stderr",
     "output_type": "stream",
     "text": [
      "ERROR: Could not find a version that satisfies the requirement tkinter (from versions: none)\n",
      "ERROR: No matching distribution found for tkinter\n"
     ]
    }
   ],
   "source": [
    "pip install numpy pandas tensorflow keras matplotlib tkinter pillow\n"
   ]
  },
  {
   "cell_type": "code",
   "execution_count": 2,
   "id": "ee15912e-bc8b-4f74-859d-8e124789940d",
   "metadata": {},
   "outputs": [
    {
     "name": "stdout",
     "output_type": "stream",
     "text": [
      "Requirement already satisfied: tensorflow in c:\\users\\guest1\\anaconda3\\lib\\site-packages (2.17.0)\n",
      "Requirement already satisfied: tensorflow-intel==2.17.0 in c:\\users\\guest1\\anaconda3\\lib\\site-packages (from tensorflow) (2.17.0)\n",
      "Requirement already satisfied: absl-py>=1.0.0 in c:\\users\\guest1\\anaconda3\\lib\\site-packages (from tensorflow-intel==2.17.0->tensorflow) (2.1.0)\n",
      "Requirement already satisfied: astunparse>=1.6.0 in c:\\users\\guest1\\anaconda3\\lib\\site-packages (from tensorflow-intel==2.17.0->tensorflow) (1.6.3)\n",
      "Requirement already satisfied: flatbuffers>=24.3.25 in c:\\users\\guest1\\anaconda3\\lib\\site-packages (from tensorflow-intel==2.17.0->tensorflow) (24.3.25)\n",
      "Requirement already satisfied: gast!=0.5.0,!=0.5.1,!=0.5.2,>=0.2.1 in c:\\users\\guest1\\anaconda3\\lib\\site-packages (from tensorflow-intel==2.17.0->tensorflow) (0.6.0)\n",
      "Requirement already satisfied: google-pasta>=0.1.1 in c:\\users\\guest1\\anaconda3\\lib\\site-packages (from tensorflow-intel==2.17.0->tensorflow) (0.2.0)\n",
      "Requirement already satisfied: h5py>=3.10.0 in c:\\users\\guest1\\anaconda3\\lib\\site-packages (from tensorflow-intel==2.17.0->tensorflow) (3.11.0)\n",
      "Requirement already satisfied: libclang>=13.0.0 in c:\\users\\guest1\\anaconda3\\lib\\site-packages (from tensorflow-intel==2.17.0->tensorflow) (18.1.1)\n",
      "Requirement already satisfied: ml-dtypes<0.5.0,>=0.3.1 in c:\\users\\guest1\\anaconda3\\lib\\site-packages (from tensorflow-intel==2.17.0->tensorflow) (0.4.0)\n",
      "Requirement already satisfied: opt-einsum>=2.3.2 in c:\\users\\guest1\\anaconda3\\lib\\site-packages (from tensorflow-intel==2.17.0->tensorflow) (3.3.0)\n",
      "Requirement already satisfied: packaging in c:\\users\\guest1\\anaconda3\\lib\\site-packages (from tensorflow-intel==2.17.0->tensorflow) (23.2)\n",
      "Requirement already satisfied: protobuf!=4.21.0,!=4.21.1,!=4.21.2,!=4.21.3,!=4.21.4,!=4.21.5,<5.0.0dev,>=3.20.3 in c:\\users\\guest1\\anaconda3\\lib\\site-packages (from tensorflow-intel==2.17.0->tensorflow) (3.20.3)\n",
      "Requirement already satisfied: requests<3,>=2.21.0 in c:\\users\\guest1\\anaconda3\\lib\\site-packages (from tensorflow-intel==2.17.0->tensorflow) (2.32.2)\n",
      "Requirement already satisfied: setuptools in c:\\users\\guest1\\anaconda3\\lib\\site-packages (from tensorflow-intel==2.17.0->tensorflow) (69.5.1)\n",
      "Requirement already satisfied: six>=1.12.0 in c:\\users\\guest1\\anaconda3\\lib\\site-packages (from tensorflow-intel==2.17.0->tensorflow) (1.16.0)\n",
      "Requirement already satisfied: termcolor>=1.1.0 in c:\\users\\guest1\\anaconda3\\lib\\site-packages (from tensorflow-intel==2.17.0->tensorflow) (2.4.0)\n",
      "Requirement already satisfied: typing-extensions>=3.6.6 in c:\\users\\guest1\\anaconda3\\lib\\site-packages (from tensorflow-intel==2.17.0->tensorflow) (4.11.0)\n",
      "Requirement already satisfied: wrapt>=1.11.0 in c:\\users\\guest1\\anaconda3\\lib\\site-packages (from tensorflow-intel==2.17.0->tensorflow) (1.14.1)\n",
      "Requirement already satisfied: grpcio<2.0,>=1.24.3 in c:\\users\\guest1\\anaconda3\\lib\\site-packages (from tensorflow-intel==2.17.0->tensorflow) (1.64.1)\n",
      "Requirement already satisfied: tensorboard<2.18,>=2.17 in c:\\users\\guest1\\anaconda3\\lib\\site-packages (from tensorflow-intel==2.17.0->tensorflow) (2.17.0)\n",
      "Requirement already satisfied: keras>=3.2.0 in c:\\users\\guest1\\anaconda3\\lib\\site-packages (from tensorflow-intel==2.17.0->tensorflow) (3.4.1)\n",
      "Requirement already satisfied: numpy<2.0.0,>=1.26.0 in c:\\users\\guest1\\anaconda3\\lib\\site-packages (from tensorflow-intel==2.17.0->tensorflow) (1.26.4)\n",
      "Requirement already satisfied: wheel<1.0,>=0.23.0 in c:\\users\\guest1\\anaconda3\\lib\\site-packages (from astunparse>=1.6.0->tensorflow-intel==2.17.0->tensorflow) (0.43.0)\n",
      "Requirement already satisfied: rich in c:\\users\\guest1\\anaconda3\\lib\\site-packages (from keras>=3.2.0->tensorflow-intel==2.17.0->tensorflow) (13.3.5)\n",
      "Requirement already satisfied: namex in c:\\users\\guest1\\anaconda3\\lib\\site-packages (from keras>=3.2.0->tensorflow-intel==2.17.0->tensorflow) (0.0.8)\n",
      "Requirement already satisfied: optree in c:\\users\\guest1\\anaconda3\\lib\\site-packages (from keras>=3.2.0->tensorflow-intel==2.17.0->tensorflow) (0.12.1)\n",
      "Requirement already satisfied: charset-normalizer<4,>=2 in c:\\users\\guest1\\anaconda3\\lib\\site-packages (from requests<3,>=2.21.0->tensorflow-intel==2.17.0->tensorflow) (2.0.4)\n",
      "Requirement already satisfied: idna<4,>=2.5 in c:\\users\\guest1\\anaconda3\\lib\\site-packages (from requests<3,>=2.21.0->tensorflow-intel==2.17.0->tensorflow) (3.7)\n",
      "Requirement already satisfied: urllib3<3,>=1.21.1 in c:\\users\\guest1\\anaconda3\\lib\\site-packages (from requests<3,>=2.21.0->tensorflow-intel==2.17.0->tensorflow) (2.2.2)\n",
      "Requirement already satisfied: certifi>=2017.4.17 in c:\\users\\guest1\\anaconda3\\lib\\site-packages (from requests<3,>=2.21.0->tensorflow-intel==2.17.0->tensorflow) (2024.6.2)\n",
      "Requirement already satisfied: markdown>=2.6.8 in c:\\users\\guest1\\anaconda3\\lib\\site-packages (from tensorboard<2.18,>=2.17->tensorflow-intel==2.17.0->tensorflow) (3.4.1)\n",
      "Requirement already satisfied: tensorboard-data-server<0.8.0,>=0.7.0 in c:\\users\\guest1\\anaconda3\\lib\\site-packages (from tensorboard<2.18,>=2.17->tensorflow-intel==2.17.0->tensorflow) (0.7.2)\n",
      "Requirement already satisfied: werkzeug>=1.0.1 in c:\\users\\guest1\\anaconda3\\lib\\site-packages (from tensorboard<2.18,>=2.17->tensorflow-intel==2.17.0->tensorflow) (3.0.3)\n",
      "Requirement already satisfied: MarkupSafe>=2.1.1 in c:\\users\\guest1\\anaconda3\\lib\\site-packages (from werkzeug>=1.0.1->tensorboard<2.18,>=2.17->tensorflow-intel==2.17.0->tensorflow) (2.1.3)\n",
      "Requirement already satisfied: markdown-it-py<3.0.0,>=2.2.0 in c:\\users\\guest1\\anaconda3\\lib\\site-packages (from rich->keras>=3.2.0->tensorflow-intel==2.17.0->tensorflow) (2.2.0)\n",
      "Requirement already satisfied: pygments<3.0.0,>=2.13.0 in c:\\users\\guest1\\anaconda3\\lib\\site-packages (from rich->keras>=3.2.0->tensorflow-intel==2.17.0->tensorflow) (2.15.1)\n",
      "Requirement already satisfied: mdurl~=0.1 in c:\\users\\guest1\\anaconda3\\lib\\site-packages (from markdown-it-py<3.0.0,>=2.2.0->rich->keras>=3.2.0->tensorflow-intel==2.17.0->tensorflow) (0.1.0)\n",
      "Note: you may need to restart the kernel to use updated packages.\n"
     ]
    }
   ],
   "source": [
    "pip install tensorflow"
   ]
  },
  {
   "cell_type": "code",
   "execution_count": null,
   "id": "08f524c1-2f02-422d-9d95-79f0de1dabe8",
   "metadata": {},
   "outputs": [],
   "source": [
    "import matplotlib.pyplot as plt\n",
    "import tensorflow as tf\n",
    "from tensorflow.keras.applications import InceptionV3\n",
    "from tensorflow.keras.preprocessing.image import ImageDataGenerator\n",
    "from tensorflow.keras.layers import Dense, GlobalAveragePooling2D\n",
    "from tensorflow.keras.models import Model\n",
    "from tensorflow.keras.optimizers import Adam\n",
    "import numpy as np\n",
    "from PIL import Image\n",
    "import tkinter as tk\n",
    "from tkinter import filedialog\n",
    "from tkinter import Label\n",
    "from PIL import Image, ImageTk"
   ]
  },
  {
   "cell_type": "code",
   "execution_count": 34,
   "id": "f64af5c4-9956-4d28-9791-68b2cd6e4d64",
   "metadata": {},
   "outputs": [],
   "source": [
    "train_dir = r\"C:\\Users\\guest1\\Downloads\\Animals_Data-20240713T102247Z-001\\Animals_Data\\Test\"\n",
    "validation_dir =r\"C:\\Users\\guest1\\Downloads\\Animals_Data-20240713T102247Z-001\\Animals_Data\\Test\""
   ]
  },
  {
   "cell_type": "code",
   "execution_count": null,
   "id": "d14d5b6d-ce9b-4a28-bdde-c088d1a2acee",
   "metadata": {},
   "outputs": [],
   "source": [
    "\n"
   ]
  },
  {
   "cell_type": "code",
   "execution_count": 37,
   "id": "f896027f-7aee-4acc-8573-cf49b91d5e28",
   "metadata": {},
   "outputs": [],
   "source": [
    "# Hyperparameters\n",
    "num_classes = 26\n",
    "image_size = (299, 299)\n",
    "batch_size = 32\n",
    "learning_rate = 0.001\n",
    "epochs = 5"
   ]
  },
  {
   "cell_type": "code",
   "execution_count": 39,
   "id": "e92e5c06-070f-4237-b929-ed14eae5e851",
   "metadata": {},
   "outputs": [],
   "source": [
    "# Data generators\n",
    "train_datagen = ImageDataGenerator(\n",
    "    rescale=1./255,\n",
    "    shear_range=0.2,\n",
    "    zoom_range=0.2,\n",
    "    horizontal_flip=True\n",
    ")\n",
    "\n",
    "valid_datagen = ImageDataGenerator(rescale=1./255)"
   ]
  },
  {
   "cell_type": "code",
   "execution_count": 41,
   "id": "11cbd5a3-6aeb-4d55-9994-1b43df8b235b",
   "metadata": {},
   "outputs": [
    {
     "name": "stdout",
     "output_type": "stream",
     "text": [
      "Found 1303 images belonging to 26 classes.\n",
      "Found 1303 images belonging to 26 classes.\n"
     ]
    }
   ],
   "source": [
    "train_generator = train_datagen.flow_from_directory(\n",
    "    train_dir,\n",
    "    target_size=image_size,\n",
    "    batch_size=batch_size,\n",
    "    class_mode='categorical'\n",
    ")\n",
    "\n",
    "valid_generator = valid_datagen.flow_from_directory(\n",
    "    validation_dir,\n",
    "    target_size=image_size,\n",
    "    batch_size=batch_size,\n",
    "    class_mode='categorical'\n",
    ")"
   ]
  },
  {
   "cell_type": "code",
   "execution_count": 43,
   "id": "c6893082-455f-41c8-af41-8c911f69a5d8",
   "metadata": {},
   "outputs": [],
   "source": [
    "# Load the base model\n",
    "base_model = InceptionV3(weights='imagenet', include_top=False, input_shape=(image_size[0], image_size[1], 3))\n"
   ]
  },
  {
   "cell_type": "code",
   "execution_count": 44,
   "id": "cba14dce-47ca-45ca-9ec1-0c91054e582a",
   "metadata": {},
   "outputs": [],
   "source": [
    "# Add custom layers on top of the base model\n",
    "x = base_model.output\n",
    "x = GlobalAveragePooling2D()(x)\n",
    "x = Dense(1024, activation='relu')(x)\n",
    "predictions = Dense(num_classes, activation='softmax')(x)"
   ]
  },
  {
   "cell_type": "code",
   "execution_count": 47,
   "id": "218279ee-1bb1-4069-b4a8-af4e8a456f14",
   "metadata": {},
   "outputs": [],
   "source": [
    "\n",
    "# Define the model\n",
    "model = Model(inputs=base_model.input, outputs=predictions)"
   ]
  },
  {
   "cell_type": "code",
   "execution_count": 49,
   "id": "ed3c8434-119f-46da-9611-947e453f3de7",
   "metadata": {},
   "outputs": [],
   "source": [
    "# Freeze the base model layers\n",
    "for layer in base_model.layers:\n",
    "    layer.trainable = False"
   ]
  },
  {
   "cell_type": "code",
   "execution_count": 51,
   "id": "2c830f54-9e46-4980-bc19-14926f3d775b",
   "metadata": {},
   "outputs": [],
   "source": [
    "# Compile the model\n",
    "model.compile(optimizer=Adam(learning_rate=learning_rate), loss='categorical_crossentropy', metrics=['accuracy'])\n"
   ]
  },
  {
   "cell_type": "code",
   "execution_count": 53,
   "id": "6bf9e158-15da-464d-a718-4501219ecbeb",
   "metadata": {},
   "outputs": [],
   "source": [
    "# Calculate steps per epoch and validation steps\n",
    "steps_per_epoch = train_generator.samples // batch_size\n",
    "validation_steps = valid_generator.samples // batch_size"
   ]
  },
  {
   "cell_type": "code",
   "execution_count": 55,
   "id": "ed74aea7-8a88-4152-b6eb-591cf3fd71e7",
   "metadata": {},
   "outputs": [
    {
     "name": "stdout",
     "output_type": "stream",
     "text": [
      "Epoch 1/5\n",
      "\u001b[1m40/40\u001b[0m \u001b[32m━━━━━━━━━━━━━━━━━━━━\u001b[0m\u001b[37m\u001b[0m \u001b[1m175s\u001b[0m 4s/step - accuracy: 0.6560 - loss: 1.4243 - val_accuracy: 0.9719 - val_loss: 0.1111\n",
      "Epoch 2/5\n",
      "\u001b[1m40/40\u001b[0m \u001b[32m━━━━━━━━━━━━━━━━━━━━\u001b[0m\u001b[37m\u001b[0m \u001b[1m3s\u001b[0m 39ms/step - accuracy: 1.0000 - loss: 0.0315 - val_accuracy: 1.0000 - val_loss: 0.0094\n",
      "Epoch 3/5\n",
      "\u001b[1m40/40\u001b[0m \u001b[32m━━━━━━━━━━━━━━━━━━━━\u001b[0m\u001b[37m\u001b[0m \u001b[1m166s\u001b[0m 4s/step - accuracy: 0.9689 - loss: 0.1341 - val_accuracy: 0.9937 - val_loss: 0.0380\n",
      "Epoch 4/5\n",
      "\u001b[1m40/40\u001b[0m \u001b[32m━━━━━━━━━━━━━━━━━━━━\u001b[0m\u001b[37m\u001b[0m \u001b[1m3s\u001b[0m 30ms/step - accuracy: 0.9688 - loss: 0.0638 - val_accuracy: 1.0000 - val_loss: 0.0478\n",
      "Epoch 5/5\n",
      "\u001b[1m40/40\u001b[0m \u001b[32m━━━━━━━━━━━━━━━━━━━━\u001b[0m\u001b[37m\u001b[0m \u001b[1m141s\u001b[0m 3s/step - accuracy: 0.9895 - loss: 0.0506 - val_accuracy: 0.9930 - val_loss: 0.0275\n"
     ]
    }
   ],
   "source": [
    "# Train the model\n",
    "history = model.fit(\n",
    "    train_generator,\n",
    "    steps_per_epoch=steps_per_epoch,\n",
    "    epochs=epochs,\n",
    "    validation_data=valid_generator,\n",
    "    validation_steps=validation_steps\n",
    ")\n",
    "\n",
    "\n"
   ]
  },
  {
   "cell_type": "code",
   "execution_count": 56,
   "id": "eeb13dee-c72f-46c0-9768-aee1a1199aa1",
   "metadata": {},
   "outputs": [],
   "source": [
    "# Save the model\n",
    "model.save(\"inceptionv3_model.keras\")"
   ]
  },
  {
   "cell_type": "code",
   "execution_count": 57,
   "id": "aa10957d-1f13-471a-bdc3-b4df969c3fef",
   "metadata": {},
   "outputs": [],
   "source": [
    "# Load the model\n",
    "model = tf.keras.models.load_model('inceptionv3_model.keras')"
   ]
  },
  {
   "cell_type": "code",
   "execution_count": 58,
   "id": "0af6ddef-e376-498f-a736-f74488772ea0",
   "metadata": {},
   "outputs": [],
   "source": [
    "model.compile(optimizer=Adam(learning_rate=learning_rate), loss='categorical_crossentropy', metrics=['accuracy'])\n"
   ]
  },
  {
   "cell_type": "code",
   "execution_count": 59,
   "id": "5af92890-86eb-4b37-8791-2e3714418fe3",
   "metadata": {},
   "outputs": [],
   "source": [
    "# Class labels\n",
    "class_labels = ['Bear', 'Cat', 'Chicken', 'Dog', 'Duck', 'Elephant', 'Fish', 'Fox', 'Frog', 'Giraffe', 'Hippopotamus', 'Horse', 'Kangaroo', 'Koala', 'Lion', 'Monkey', 'Panda', 'Peacock', 'Penguin','Raccon','Rhinoceros','sheep','Snake','Tiger','Whale','Zebra']\n"
   ]
  },
  {
   "cell_type": "code",
   "execution_count": 60,
   "id": "4698a21a-ec66-4f48-83bc-541d40f8cace",
   "metadata": {},
   "outputs": [],
   "source": [
    "\n",
    "# Define functions for image preprocessing and prediction\n",
    "def preprocess_image(image_path):\n",
    "    img = Image.open(image_path)\n",
    "    img = img.resize((299, 299))\n",
    "    img = np.array(img) / 255.0\n",
    "    img = np.expand_dims(img, axis=0)\n",
    "    return img"
   ]
  },
  {
   "cell_type": "code",
   "execution_count": 61,
   "id": "78cd1cea-f4b7-4f0f-8340-c6203c256099",
   "metadata": {},
   "outputs": [
    {
     "data": {
      "text/plain": [
       "'def predict_animal(image_path):\\n    processed_image = preprocess_image(image_path)\\n    predictions = model.predict(processed_image)\\n    \\n    print(f\"Predictions: {predictions}\")  # Debugging statement\\n    print(f\"Predictions shape: {predictions.shape}\")  # Debugging statement\\n    print(f\"Class labels: {class_labels}\")  # Debugging statement\\n\\n    if len(predictions[0]) != len(class_labels):\\n        raise ValueError(f\"Mismatch between number of predictions ({len(predictions[0])}) and class labels ({len(class_labels)}).\")\\n    \\n    predicted_label = class_labels[np.argmax(predictions)]\\n    confidence = np.max(predictions)\\n    return predicted_label, confidence'"
      ]
     },
     "execution_count": 61,
     "metadata": {},
     "output_type": "execute_result"
    }
   ],
   "source": [
    "\n",
    "def predict_animal(image_path):\n",
    "  processed_image=preprocess_image(image_path)\n",
    "  predictions=model.predict(processed_image)\n",
    "  predicted_label=class_labels[np.argmax(predictions)]\n",
    "  confidence=np.max(predictions)\n",
    "  return predicted_label,confidence\n",
    "\n",
    "'''def predict_animal(image_path):\n",
    "    processed_image = preprocess_image(image_path)\n",
    "    predictions = model.predict(processed_image)\n",
    "    \n",
    "    print(f\"Predictions: {predictions}\")  # Debugging statement\n",
    "    print(f\"Predictions shape: {predictions.shape}\")  # Debugging statement\n",
    "    print(f\"Class labels: {class_labels}\")  # Debugging statement\n",
    "\n",
    "    if len(predictions[0]) != len(class_labels):\n",
    "        raise ValueError(f\"Mismatch between number of predictions ({len(predictions[0])}) and class labels ({len(class_labels)}).\")\n",
    "    \n",
    "    predicted_label = class_labels[np.argmax(predictions)]\n",
    "    confidence = np.max(predictions)\n",
    "    return predicted_label, confidence'''"
   ]
  },
  {
   "cell_type": "code",
   "execution_count": 65,
   "id": "d6b16496-52c1-4920-ba1a-baaa15c1c68f",
   "metadata": {},
   "outputs": [
    {
     "ename": "SyntaxError",
     "evalue": "(unicode error) 'unicodeescape' codec can't decode bytes in position 77-78: truncated \\UXXXXXXXX escape (2103945860.py, line 1)",
     "output_type": "error",
     "traceback": [
      "\u001b[1;36m  Cell \u001b[1;32mIn[65], line 1\u001b[1;36m\u001b[0m\n\u001b[1;33m    '''import numpy as np\u001b[0m\n\u001b[1;37m    ^\u001b[0m\n\u001b[1;31mSyntaxError\u001b[0m\u001b[1;31m:\u001b[0m (unicode error) 'unicodeescape' codec can't decode bytes in position 77-78: truncated \\UXXXXXXXX escape\n"
     ]
    }
   ],
   "source": [
    "'''import numpy as np\n",
    "\n",
    "import matplotlib.pyplot as plt\n",
    "\n",
    "\n",
    "uploaded_file_path=r\"C:\\Users\\guest1\\Downloads\\Animals_Data-20240713T102247Z-001\\Animals_Data\\Test\\Elephant\\loxodonta-africana_40_37317fb0.jpg\"\n",
    "prediction,confidence=predict_animal(uploaded_file_path)\n",
    "print(confidence)\n",
    "img=tf.keras.utils.load_img(uploaded_file_path)\n",
    "plt.imshow(img)\n",
    "plt.axis('off')\n",
    "if (confidence<0.80):\n",
    "\n",
    "    print(\"Data could not be found.Sorry for the inconvienence\")\n",
    "\n",
    "else:\n",
    "    plt.title(f'Prediction:{prediction}\\nConfidence:{confidence:.2%}')\n",
    "    plt.show()'''\n",
    "\n",
    "\n",
    "\n",
    "# GUI for image upload and prediction\n",
    "def upload_image():\n",
    "    file_path = filedialog.askopenfilename()\n",
    "    if file_path:\n",
    "        prediction, confidence = predict_animal(file_path)\n",
    "        img = Image.open(file_path)\n",
    "        img = img.resize((299, 299))\n",
    "        img = ImageTk.PhotoImage(img)\n",
    "        img_label.config(image=img)\n",
    "        img_label.image = img\n",
    "        if confidence < 0.80:\n",
    "            result_label.config(text=\"Data could not be found. Sorry for the inconvenience.\")\n",
    "        else:\n",
    "            result_label.config(text=f\"Prediction: {prediction}\\nConfidence: {confidence:.2%}\")\n",
    "\n"
   ]
  },
  {
   "cell_type": "code",
   "execution_count": 67,
   "id": "af26a290-f6d3-4cf3-8554-d9644c18d80e",
   "metadata": {},
   "outputs": [],
   "source": [
    "# GUI for image upload and prediction\n",
    "def upload_image():\n",
    "    file_path = filedialog.askopenfilename()\n",
    "    if file_path:\n",
    "        prediction, confidence = predict_animal(file_path)\n",
    "        img = Image.open(file_path)\n",
    "        img = img.resize((299, 299))\n",
    "        img = ImageTk.PhotoImage(img)\n",
    "        img_label.config(image=img)\n",
    "        img_label.image = img\n",
    "        if confidence < 0.80:\n",
    "            result_label.config(text=\"Data could not be found. Sorry for the inconvenience.\")\n",
    "        else:\n",
    "            result_label.config(text=f\"Prediction: {prediction}\\nConfidence: {confidence:.2%}\")\n",
    "\n"
   ]
  },
  {
   "cell_type": "code",
   "execution_count": null,
   "id": "8a91a922-fee8-43be-9c90-e7399771f437",
   "metadata": {},
   "outputs": [],
   "source": []
  },
  {
   "cell_type": "code",
   "execution_count": 74,
   "id": "d83764bd-b49e-4535-acd3-e959a054a9bf",
   "metadata": {},
   "outputs": [],
   "source": [
    "root = tk.Tk()\n",
    "root.title(\"Animal Classifier\")\n",
    "root.geometry(\"800x600\")  # Set window size to 800x600\n",
    "\n",
    "root.configure(bg=\"lightblue\")  # Set background color\n",
    "\n",
    "welcome_label = tk.Label(root, text=\"Welcome to the Animal Classifier!\", font=(\"Helvetica\", 16), bg=\"lightblue\")\n",
    "welcome_label.pack(pady=20)\n",
    "\n",
    "instructions_label = tk.Label(root, text=\"Please upload an image to classify.\", font=(\"Helvetica\", 12), bg=\"lightblue\")\n",
    "instructions_label.pack(pady=10)\n"
   ]
  },
  {
   "cell_type": "code",
   "execution_count": 76,
   "id": "5c07c4a5-1925-4237-ba97-a6f151847dae",
   "metadata": {},
   "outputs": [
    {
     "name": "stdout",
     "output_type": "stream",
     "text": [
      "\u001b[1m1/1\u001b[0m \u001b[32m━━━━━━━━━━━━━━━━━━━━\u001b[0m\u001b[37m\u001b[0m \u001b[1m0s\u001b[0m 94ms/step\n",
      "\u001b[1m1/1\u001b[0m \u001b[32m━━━━━━━━━━━━━━━━━━━━\u001b[0m\u001b[37m\u001b[0m \u001b[1m0s\u001b[0m 78ms/step\n"
     ]
    }
   ],
   "source": [
    "top_frame = tk.Frame(root, bg=\"lightblue\")\n",
    "top_frame.pack(pady=20)\n",
    "\n",
    "bottom_frame = tk.Frame(root, bg=\"lightblue\")\n",
    "bottom_frame.pack(pady=20)\n",
    "\n",
    "upload_button = tk.Button(top_frame, text=\"Upload Image\", command=upload_image)\n",
    "upload_button.pack()\n",
    "\n",
    "img_label = tk.Label(bottom_frame)\n",
    "img_label.pack()\n",
    "\n",
    "result_label = tk.Label(bottom_frame, text=\"\", bg=\"lightblue\")\n",
    "result_label.pack()\n",
    "\n",
    "root.mainloop()"
   ]
  },
  {
   "cell_type": "code",
   "execution_count": null,
   "id": "fb21c938-e660-4d93-a4d7-66a300496337",
   "metadata": {},
   "outputs": [],
   "source": []
  },
  {
   "cell_type": "code",
   "execution_count": null,
   "id": "0fbaf85d-9105-48d1-895d-66a2b87322f2",
   "metadata": {},
   "outputs": [],
   "source": []
  },
  {
   "cell_type": "code",
   "execution_count": null,
   "id": "f54a35d4-e3f0-4606-ac61-80e9bd403800",
   "metadata": {},
   "outputs": [],
   "source": []
  }
 ],
 "metadata": {
  "kernelspec": {
   "display_name": "Python 3 (ipykernel)",
   "language": "python",
   "name": "python3"
  },
  "language_info": {
   "codemirror_mode": {
    "name": "ipython",
    "version": 3
   },
   "file_extension": ".py",
   "mimetype": "text/x-python",
   "name": "python",
   "nbconvert_exporter": "python",
   "pygments_lexer": "ipython3",
   "version": "3.12.4"
  }
 },
 "nbformat": 4,
 "nbformat_minor": 5
}
